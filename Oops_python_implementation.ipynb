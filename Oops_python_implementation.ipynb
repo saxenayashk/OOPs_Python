{
 "cells": [
  {
   "cell_type": "code",
   "execution_count": 1,
   "id": "9867d0c3",
   "metadata": {},
   "outputs": [],
   "source": [
    "## Default init\n",
    "\n",
    "class abc:\n",
    "    def __init__(self):  ## constructor - default init\n",
    "        self.name = 'Yash'\n",
    "        self.age = 22\n",
    "        \n",
    "    def display(self):\n",
    "        print(self.name, self.age)"
   ]
  },
  {
   "cell_type": "code",
   "execution_count": 2,
   "id": "9135bb21",
   "metadata": {},
   "outputs": [],
   "source": [
    "obj = abc()"
   ]
  },
  {
   "cell_type": "code",
   "execution_count": 3,
   "id": "915c6a27",
   "metadata": {},
   "outputs": [
    {
     "name": "stdout",
     "output_type": "stream",
     "text": [
      "Yash 22\n"
     ]
    }
   ],
   "source": [
    "obj.display()"
   ]
  },
  {
   "cell_type": "code",
   "execution_count": 4,
   "id": "8f7866d5",
   "metadata": {},
   "outputs": [
    {
     "name": "stdout",
     "output_type": "stream",
     "text": [
      "Ravi 27\n"
     ]
    }
   ],
   "source": [
    "## With paramter\n",
    "\n",
    "class abc:\n",
    "    def __init__(self,name,age):  ## constructor - default init\n",
    "        self.name = name\n",
    "        self.age = age\n",
    "        \n",
    "    def display(self):\n",
    "        print(self.name, self.age)\n",
    "        \n",
    "obj1 = abc('Ravi',27)\n",
    "obj1.display()"
   ]
  },
  {
   "cell_type": "markdown",
   "id": "a2a18fa6",
   "metadata": {},
   "source": [
    "#### Pillars of OOps concepts \n",
    "\n",
    "* Inheritence\n",
    "* Abstraction \n",
    "* Polymorphism\n",
    "* Encapsulation\n"
   ]
  },
  {
   "cell_type": "markdown",
   "id": "cfc2196c",
   "metadata": {},
   "source": [
    "##### Inheritence"
   ]
  },
  {
   "cell_type": "code",
   "execution_count": 5,
   "id": "10f5316a",
   "metadata": {},
   "outputs": [
    {
     "name": "stdout",
     "output_type": "stream",
     "text": [
      "Yash\n"
     ]
    }
   ],
   "source": [
    "##Single inheritence\n",
    "\n",
    "class parent:\n",
    "    def __init__(self):\n",
    "        self.name = 'Yash'\n",
    "                \n",
    "class child(parent):\n",
    "    def display(self):\n",
    "        print(self.name)\n",
    "        \n",
    "obj = child()\n",
    "obj.display()"
   ]
  },
  {
   "cell_type": "code",
   "execution_count": 6,
   "id": "06dad07a",
   "metadata": {},
   "outputs": [
    {
     "name": "stdout",
     "output_type": "stream",
     "text": [
      "Yash 22 Engineer\n"
     ]
    }
   ],
   "source": [
    "##Multiple inheritence\n",
    "\n",
    "class parent1:\n",
    "    def __init__(self):\n",
    "        self.name = 'Yash'\n",
    "        \n",
    "class parent2:\n",
    "    def __init__(self):\n",
    "        self.age = 22\n",
    "                \n",
    "class child(parent1, parent2):\n",
    "    def __init__(self):\n",
    "        self.prof = 'Engineer'\n",
    "        parent1.__init__(self)\n",
    "        parent2.__init__(self)\n",
    "    \n",
    "    def display(self):\n",
    "        print(self.name, self.age, self.prof)\n",
    "        \n",
    "obj = child()\n",
    "obj.display()"
   ]
  },
  {
   "cell_type": "markdown",
   "id": "b5cbdec3",
   "metadata": {},
   "source": [
    "######  Abstraction"
   ]
  },
  {
   "cell_type": "code",
   "execution_count": 16,
   "id": "591dd0fb",
   "metadata": {},
   "outputs": [],
   "source": [
    "from abc import ABC, abstractmethod"
   ]
  },
  {
   "cell_type": "code",
   "execution_count": 28,
   "id": "5b12842f",
   "metadata": {},
   "outputs": [
    {
     "name": "stdout",
     "output_type": "stream",
     "text": [
      "abstraction\n"
     ]
    }
   ],
   "source": [
    "class sample(ABC):\n",
    "    @abstractmethod\n",
    "    def abstract_method(self):\n",
    "        pass\n",
    "    \n",
    "class child(sample):\n",
    "    def abstract_method(self):\n",
    "        print('abstraction')\n",
    "        \n",
    "obj = child()\n",
    "obj.abstract_method()"
   ]
  },
  {
   "cell_type": "code",
   "execution_count": 17,
   "id": "636c0473",
   "metadata": {},
   "outputs": [
    {
     "name": "stdout",
     "output_type": "stream",
     "text": [
      "child class\n"
     ]
    }
   ],
   "source": [
    "## Method overriding -- latest priority\n",
    "\n",
    "class Sample(ABC):\n",
    "    @abstractmethod\n",
    "    def display(self):\n",
    "        print('Abstract Method')\n",
    "        \n",
    "class child(Sample):\n",
    "    def display(self):\n",
    "        print('child class')\n",
    "        \n",
    "obj = child()\n",
    "obj.display()"
   ]
  },
  {
   "cell_type": "code",
   "execution_count": 18,
   "id": "28ed0614",
   "metadata": {},
   "outputs": [
    {
     "name": "stdout",
     "output_type": "stream",
     "text": [
      "Abstract Method\n",
      "child class\n"
     ]
    }
   ],
   "source": [
    "## Concrete method using super object \n",
    "\n",
    "class Sample(ABC):\n",
    "    @abstractmethod\n",
    "    def display(self):\n",
    "        print('Abstract Method')\n",
    "        \n",
    "class child(Sample):\n",
    "    def display(self):\n",
    "        super().display()\n",
    "        print('child class')\n",
    "        \n",
    "obj = child()\n",
    "obj.display()"
   ]
  },
  {
   "cell_type": "markdown",
   "id": "e5668135",
   "metadata": {},
   "source": [
    "##### Encapsulation"
   ]
  },
  {
   "cell_type": "code",
   "execution_count": null,
   "id": "566b9050",
   "metadata": {},
   "outputs": [],
   "source": [
    "## Public - everywhere\n",
    "## Protected - same class and inherited class also \n",
    "## Private - Only same class "
   ]
  },
  {
   "cell_type": "code",
   "execution_count": 7,
   "id": "875faf60",
   "metadata": {},
   "outputs": [],
   "source": [
    "class parent:\n",
    "    def __init__(self):\n",
    "        self.__name = 'Yash'   ### Private object\n",
    "        self._age = 23          ### Protected object\n",
    "        \n",
    "    def display(self):\n",
    "        print(self.__name,self._age)\n",
    "        \n",
    "        \n",
    "class child(parent):\n",
    "    def display(self):\n",
    "        print(self._age)\n",
    "        \n",
    "obj = parent()\n",
    "obj1 = child()"
   ]
  },
  {
   "cell_type": "code",
   "execution_count": 8,
   "id": "b6847c3a",
   "metadata": {},
   "outputs": [
    {
     "name": "stdout",
     "output_type": "stream",
     "text": [
      "Yash 23\n"
     ]
    }
   ],
   "source": [
    "obj.display()"
   ]
  },
  {
   "cell_type": "code",
   "execution_count": 9,
   "id": "2fe5f2e9",
   "metadata": {},
   "outputs": [
    {
     "name": "stdout",
     "output_type": "stream",
     "text": [
      "23\n"
     ]
    }
   ],
   "source": [
    "obj1.display()"
   ]
  },
  {
   "cell_type": "markdown",
   "id": "fdb1f407",
   "metadata": {},
   "source": [
    "##### Polymorphism"
   ]
  },
  {
   "cell_type": "code",
   "execution_count": 30,
   "id": "12dd2cb5",
   "metadata": {},
   "outputs": [],
   "source": [
    "class parent:\n",
    "    def __init__(self):\n",
    "        self.shape = 'square'\n",
    "        self.side = 4\n",
    "        \n",
    "    def area(self):\n",
    "        print('Area:',self.shape,self.side**2)\n",
    "        \n",
    "        \n",
    "class child:\n",
    "    def __init__(self):\n",
    "        self.shape = 'rectangle'\n",
    "        self.length = 10\n",
    "        self.breadth = 5\n",
    "    \n",
    "    def area(self):\n",
    "        print('Area:',self.shape,self.length*self.breadth)\n",
    "        \n",
    "        \n",
    "ob1 = parent()\n",
    "ob2 = child()"
   ]
  },
  {
   "cell_type": "code",
   "execution_count": 31,
   "id": "e38f903d",
   "metadata": {},
   "outputs": [
    {
     "name": "stdout",
     "output_type": "stream",
     "text": [
      "Area: square 16\n",
      "Area: rectangle 50\n"
     ]
    }
   ],
   "source": [
    "ob1.area()\n",
    "ob2.area()"
   ]
  },
  {
   "cell_type": "code",
   "execution_count": null,
   "id": "5a9b2182",
   "metadata": {},
   "outputs": [],
   "source": []
  }
 ],
 "metadata": {
  "kernelspec": {
   "display_name": "Python 3 (ipykernel)",
   "language": "python",
   "name": "python3"
  },
  "language_info": {
   "codemirror_mode": {
    "name": "ipython",
    "version": 3
   },
   "file_extension": ".py",
   "mimetype": "text/x-python",
   "name": "python",
   "nbconvert_exporter": "python",
   "pygments_lexer": "ipython3",
   "version": "3.9.13"
  }
 },
 "nbformat": 4,
 "nbformat_minor": 5
}
